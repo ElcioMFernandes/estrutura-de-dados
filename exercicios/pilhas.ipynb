{
 "cells": [
  {
   "cell_type": "code",
   "execution_count": 2,
   "metadata": {},
   "outputs": [],
   "source": [
    "class Pilha:\n",
    "    \"\"\"Classe que simula uma pilha de elementos\"\"\"\n",
    "    __pilha_principal = []\n",
    "    \n",
    "    def get_last(self, pilha=None):\n",
    "        \"\"\"Retorna o valor do topo da pilha\"\"\"\n",
    "        if pilha is None:\n",
    "            pilha = self.__pilha_principal\n",
    "        return pilha[-1]\n",
    "    \n",
    "    def get_all(self):\n",
    "        pilha_auxiliar = []\n",
    "        \"\"\"Desempilha todos os elementos da pilha e os retorna\"\"\"\n",
    "        for i in range(0, len(self.__pilha_principal), 1):\n",
    "            print(f\"Elemento {i+1}: {self.get_last()}\")\n",
    "            pilha_auxiliar.append(self.__pilha_principal.pop())\n",
    "        else:\n",
    "            for i in range(0, len(pilha_auxiliar), 1):\n",
    "                self.__pilha_principal.append(pilha_auxiliar.pop())\n",
    "\n",
    "    def __set_pilha(self):\n",
    "        \"\"\"Define valores para aleatorios para a pilha principal\"\"\"\n",
    "        import random\n",
    "        for i in range(5):\n",
    "            self.__pilha_principal.append(random.randint(1, 100))\n",
    "\n",
    "    def __init__(self, pilha=None):\n",
    "        if pilha is not None:\n",
    "            self.__pilha_principal = pilha\n",
    "        else:\n",
    "            self.__set_pilha()"
   ]
  },
  {
   "cell_type": "code",
   "execution_count": 3,
   "metadata": {},
   "outputs": [
    {
     "name": "stdout",
     "output_type": "stream",
     "text": [
      "Elemento 1: 19\n",
      "Elemento 2: 73\n",
      "Elemento 3: 23\n",
      "Elemento 4: 100\n",
      "Elemento 5: 96\n"
     ]
    }
   ],
   "source": [
    "pl = Pilha()\n",
    "pl.get_all()"
   ]
  }
 ],
 "metadata": {
  "kernelspec": {
   "display_name": "venv",
   "language": "python",
   "name": "python3"
  },
  "language_info": {
   "codemirror_mode": {
    "name": "ipython",
    "version": 3
   },
   "file_extension": ".py",
   "mimetype": "text/x-python",
   "name": "python",
   "nbconvert_exporter": "python",
   "pygments_lexer": "ipython3",
   "version": "3.10.11"
  }
 },
 "nbformat": 4,
 "nbformat_minor": 2
}
